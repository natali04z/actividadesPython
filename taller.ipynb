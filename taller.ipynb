{
 "cells": [
  {
   "cell_type": "code",
   "execution_count": 4,
   "metadata": {},
   "outputs": [],
   "source": [
    "import sqlite3\n",
    "import pandas as pd"
   ]
  },
  {
   "cell_type": "code",
   "execution_count": 5,
   "metadata": {},
   "outputs": [
    {
     "name": "stdout",
     "output_type": "stream",
     "text": [
      "Ingreso total generado por el negocio: 39,854,875.32\n"
     ]
    }
   ],
   "source": [
    "conexion = sqlite3.connect(\"./datos/sanoyfresco.db\")\n",
    "\n",
    "total_ventas = pd.read_sql_query(\"\"\"\n",
    "    SELECT SUM(precio_total) AS ingreso_total FROM tickets\n",
    "\"\"\", conexion)\n",
    "print(f\"Ingreso total generado por el negocio: {total_ventas['ingreso_total'][0]:,.2f}\")\n",
    "\n",
    "# cerrar la conexión\n",
    "conexion.close()"
   ]
  },
  {
   "cell_type": "code",
   "execution_count": 6,
   "metadata": {},
   "outputs": [
    {
     "name": "stdout",
     "output_type": "stream",
     "text": [
      "\n",
      " Tendencia de ingresos mensuales: \n",
      "        mes  ingresos_mensuales\n",
      "0   2023-01          6673099.74\n",
      "1   2023-02          4945202.53\n",
      "2   2023-03          4725676.75\n",
      "3   2023-04          3994824.12\n",
      "4   2023-05          3626726.78\n",
      "5   2023-06          3125001.00\n",
      "6   2023-07          2937364.05\n",
      "7   2023-08          2533350.46\n",
      "8   2023-09          2343858.92\n",
      "9   2023-10          2127269.84\n",
      "10  2023-11          1637899.98\n",
      "11  2023-12          1184601.15\n"
     ]
    }
   ],
   "source": [
    "conexion = sqlite3.connect(\"./datos/sanoyfresco.db\")\n",
    "\n",
    "tendencia_ventas = pd.read_sql_query(\"\"\"\n",
    "    SELECT strftime('%Y-%m', fecha) AS mes, SUM(precio_total) AS ingresos_mensuales \n",
    "    FROM  tickets\n",
    "    GROUP BY mes\n",
    "    ORDER BY mes\n",
    "\"\"\", conexion)\n",
    "print(\"\\n Tendencia de ingresos mensuales: \")\n",
    "print(tendencia_ventas)\n",
    "\n",
    "conexion.close()"
   ]
  },
  {
   "cell_type": "code",
   "execution_count": 18,
   "metadata": {},
   "outputs": [
    {
     "name": "stdout",
     "output_type": "stream",
     "text": [
      "\n",
      " Rendimiento de cada departamento: \n",
      "   id_departamento  rendimiento\n",
      "0                4  37003251.70\n",
      "1               16   1529354.77\n",
      "2               20    946220.85\n",
      "3                7    376048.00\n"
     ]
    }
   ],
   "source": [
    "conexion = sqlite3.connect(\"./datos/sanoyfresco.db\")\n",
    "\n",
    "departamento = pd.read_sql_query(\"\"\"\n",
    "    SELECT id_departamento, SUM(precio_total) AS rendimiento\n",
    "    FROM tickets\n",
    "    GROUP BY id_departamento\n",
    "    ORDER BY rendimiento DESC\n",
    "\"\"\", conexion)\n",
    "\n",
    "conexion.close()\n",
    "\n",
    "print(\"\\n Rendimiento de cada departamento: \")\n",
    "print(departamento)\n"
   ]
  },
  {
   "cell_type": "code",
   "execution_count": 19,
   "metadata": {},
   "outputs": [
    {
     "name": "stdout",
     "output_type": "stream",
     "text": [
      "\n",
      " Ventas entre las diferentes secciones: \n",
      "   id_seccion       ventas\n",
      "0          24  20879374.69\n",
      "1         123   8634823.85\n",
      "2          83   7237312.87\n",
      "3          67    946220.85\n",
      "4          53    821420.62\n",
      "5          84    707934.15\n",
      "6         115    376048.00\n",
      "7          16    251740.29\n"
     ]
    }
   ],
   "source": [
    "conexion = sqlite3.connect(\"./datos/sanoyfresco.db\")\n",
    "\n",
    "secciones = pd.read_sql_query(\"\"\"\n",
    "    SELECT id_seccion, SUM(precio_total) AS ventas\n",
    "    FROM tickets\n",
    "    GROUP BY id_seccion\n",
    "    ORDER BY ventas DESC\n",
    "\"\"\", conexion)\n",
    "\n",
    "conexion.close()\n",
    "\n",
    "print(\"\\n Ventas entre las diferentes secciones: \")\n",
    "print(secciones)"
   ]
  },
  {
   "cell_type": "code",
   "execution_count": 23,
   "metadata": {},
   "outputs": [
    {
     "name": "stdout",
     "output_type": "stream",
     "text": [
      "\n",
      "Los 10 productos más vendidos en cantidad:\n",
      "              nombre_producto  cantidad_vendida\n",
      "0                      Banana           2460324\n",
      "1  Bolsa de Bananas Orgánicas           1976709\n",
      "2            Fresas Orgánicas           1381309\n",
      "3    Espinacas Baby Orgánicas           1258330\n",
      "4      Aguacate Hass Orgánico           1104957\n",
      "5           Aguacate Orgánico            923461\n",
      "6                Limón Grande            804752\n",
      "7                      Fresas            748065\n",
      "8                     Limones            733736\n",
      "9       Leche Entera Orgánica            715085\n"
     ]
    }
   ],
   "source": [
    "conexion = sqlite3.connect(\"./datos/sanoyfresco.db\")\n",
    "\n",
    "producto = pd.read_sql_query(\"\"\"\n",
    "    SELECT nombre_producto, SUM(cantidad) AS cantidad_vendida\n",
    "    FROM tickets\n",
    "    GROUP BY nombre_producto\n",
    "    ORDER BY cantidad_vendida DESC\n",
    "    LIMIT 10\n",
    "\"\"\", conexion)\n",
    "\n",
    "conexion.close()\n",
    "\n",
    "print(\"\\nLos 10 productos más vendidos en cantidad:\")\n",
    "print(producto)\n"
   ]
  },
  {
   "cell_type": "code",
   "execution_count": 24,
   "metadata": {},
   "outputs": [
    {
     "name": "stdout",
     "output_type": "stream",
     "text": [
      "\n",
      "Los 10 productos que generan más ingresos:\n",
      "              nombre_producto    ingresos\n",
      "0  Bolsa de Bananas Orgánicas  4842937.05\n",
      "1            Fresas Orgánicas  3439459.41\n",
      "2                      Banana  2583340.20\n",
      "3        Frambuesas Orgánicas  2032919.25\n",
      "4      Aguacate Hass Orgánico  1977873.03\n",
      "5    Espinacas Baby Orgánicas  1874911.70\n",
      "6           Aguacate Orgánico  1616056.75\n",
      "7                      Fresas  1533533.25\n",
      "8         Arándanos Orgánicos  1444778.50\n",
      "9    Tomates Cherry Orgánicos  1128040.95\n"
     ]
    }
   ],
   "source": [
    "conexion = sqlite3.connect(\"./datos/sanoyfresco.db\")\n",
    "\n",
    "producto = pd.read_sql_query(\"\"\"\n",
    "    SELECT nombre_producto, SUM(precio_total) AS ingresos\n",
    "    FROM tickets\n",
    "    GROUP BY nombre_producto\n",
    "    ORDER BY ingresos DESC\n",
    "    LIMIT 10\n",
    "\"\"\", conexion)\n",
    "\n",
    "conexion.close()\n",
    "\n",
    "print(\"\\nLos 10 productos que generan más ingresos:\")\n",
    "print(producto)"
   ]
  },
  {
   "cell_type": "code",
   "execution_count": 25,
   "metadata": {},
   "outputs": [
    {
     "name": "stdout",
     "output_type": "stream",
     "text": [
      "\n",
      "Los 20 clientes que más compran:\n",
      "    id_cliente  ingresos\n",
      "0       189425   4784.44\n",
      "1       145686   4656.01\n",
      "2        95967   4441.07\n",
      "3        67870   4381.49\n",
      "4        51256   4280.17\n",
      "5       108031   4170.37\n",
      "6       105213   4164.07\n",
      "7        66806   4010.08\n",
      "8       153932   3966.09\n",
      "9       143296   3887.86\n",
      "10      175294   3886.68\n",
      "11        1197   3883.76\n",
      "12       62239   3873.40\n",
      "13        5665   3862.69\n",
      "14       31552   3852.53\n",
      "15      132274   3842.65\n",
      "16       14868   3836.05\n",
      "17      103634   3808.71\n",
      "18      132022   3803.13\n",
      "19       94701   3783.81\n"
     ]
    }
   ],
   "source": [
    "conexion = sqlite3.connect(\"./datos/sanoyfresco.db\")\n",
    "\n",
    "producto = pd.read_sql_query(\"\"\"\n",
    "    SELECT id_cliente, SUM(precio_total) AS ingresos\n",
    "    FROM tickets\n",
    "    GROUP BY id_cliente\n",
    "    ORDER BY ingresos DESC\n",
    "    LIMIT 20\n",
    "\"\"\", conexion)\n",
    "\n",
    "conexion.close()\n",
    "\n",
    "print(\"\\nLos 20 clientes que más compran:\")\n",
    "print(producto)"
   ]
  },
  {
   "cell_type": "code",
   "execution_count": 26,
   "metadata": {},
   "outputs": [
    {
     "name": "stdout",
     "output_type": "stream",
     "text": [
      "\n",
      "Compra media por cliente:\n",
      "   compra_media\n",
      "0    219.099604\n"
     ]
    }
   ],
   "source": [
    "conexion = sqlite3.connect(\"./datos/sanoyfresco.db\")\n",
    "\n",
    "compra_media = pd.read_sql_query(\"\"\"\n",
    "    SELECT SUM(precio_total) / COUNT(DISTINCT id_cliente) AS compra_media\n",
    "    FROM tickets\n",
    "\"\"\", conexion)\n",
    "\n",
    "conexion.close()\n",
    "\n",
    "print(\"\\nCompra media por cliente:\")\n",
    "print(compra_media)"
   ]
  },
  {
   "cell_type": "code",
   "execution_count": 30,
   "metadata": {},
   "outputs": [
    {
     "name": "stdout",
     "output_type": "stream",
     "text": [
      "\n",
      "Total de pedidos realizados:\n",
      "   total_pedido\n",
      "0       2060188\n"
     ]
    }
   ],
   "source": [
    "conexion = sqlite3.connect(\"./datos/sanoyfresco.db\")\n",
    "\n",
    "total_pedidos = pd.read_sql_query(\"\"\"\n",
    "    SELECT COUNT(DISTINCT id_pedido) AS total_pedido\n",
    "    FROM tickets\n",
    "\"\"\", conexion)\n",
    "\n",
    "conexion.close()\n",
    "\n",
    "print(\"\\nTotal de pedidos realizados:\")\n",
    "print(total_pedidos)"
   ]
  },
  {
   "cell_type": "code",
   "execution_count": 33,
   "metadata": {},
   "outputs": [
    {
     "name": "stdout",
     "output_type": "stream",
     "text": [
      "\n",
      "Valor promedio pedidos:\n",
      "   valor_promedio_pedido\n",
      "0              19.345261\n"
     ]
    }
   ],
   "source": [
    "conexion = sqlite3.connect(\"./datos/sanoyfresco.db\")\n",
    "\n",
    "total_pedidos = pd.read_sql_query(\"\"\"\n",
    "    SELECT AVG(precio_total) AS valor_promedio_pedido\n",
    "    FROM (\n",
    "        SELECT id_pedido, SUM(precio_total) AS precio_total\n",
    "        FROM tickets\n",
    "        GROUP BY id_pedido\n",
    "    )\n",
    "\"\"\", conexion)\n",
    "\n",
    "conexion.close()\n",
    "\n",
    "print(\"\\nValor promedio pedidos:\")\n",
    "print(total_pedidos)"
   ]
  }
 ],
 "metadata": {
  "kernelspec": {
   "display_name": "my-ven",
   "language": "python",
   "name": "python3"
  },
  "language_info": {
   "codemirror_mode": {
    "name": "ipython",
    "version": 3
   },
   "file_extension": ".py",
   "mimetype": "text/x-python",
   "name": "python",
   "nbconvert_exporter": "python",
   "pygments_lexer": "ipython3",
   "version": "3.13.2"
  }
 },
 "nbformat": 4,
 "nbformat_minor": 2
}
