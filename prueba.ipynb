{
 "cells": [
  {
   "cell_type": "code",
   "execution_count": null,
   "metadata": {},
   "outputs": [],
   "source": [
    "import numpy as np\n",
    "vector = np.array([1,4,5,7,8,9,4,3,8,9,4])\n",
    "print(vector)\n",
    "print(len(vector))\n",
    "vector[3]=5\n",
    "print(vector)\n",
    "\n",
    "for valor in vector:\n",
    "    print(valor)"
   ]
  },
  {
   "cell_type": "code",
   "execution_count": null,
   "metadata": {},
   "outputs": [],
   "source": [
    "vector1 = np.array([2,3,4])\n",
    "vector2 = np.array([4,5,7])\n",
    "\n",
    "resultado = np.dot(vector1,vector2)\n",
    "print(resultado)"
   ]
  },
  {
   "cell_type": "code",
   "execution_count": null,
   "metadata": {},
   "outputs": [],
   "source": [
    "matriz = np.array(([1,1,1,1], [2,2,2,2], [3,3,3,3], [4,4,4,4]))\n",
    "print(matriz[2, 2])\n",
    "# Atributos 2D\n",
    "print(\"Tipo de matriz: \",matriz.dtype)\n",
    "print(\"Tamaño de la matriz: \",matriz.size)\n",
    "print(\"Dimensiones de la arreglo: \",matriz.ndim)\n",
    "print(\"Elementos de cada dimension de la matriz: \",matriz.shape)\n"
   ]
  },
  {
   "cell_type": "code",
   "execution_count": null,
   "metadata": {},
   "outputs": [],
   "source": [
    "matriz_reshape = matriz.reshape(2, 8)\n",
    "print(matriz_reshape)"
   ]
  },
  {
   "cell_type": "code",
   "execution_count": null,
   "metadata": {},
   "outputs": [],
   "source": [
    "vectorUno = np.array([1, 2, 3])\n",
    "\n",
    "\n",
    "sumaValor = vectorUno + 5\n",
    "print(sumaValor)"
   ]
  },
  {
   "cell_type": "code",
   "execution_count": null,
   "metadata": {},
   "outputs": [],
   "source": [
    "# Crear un arreglo 3x3 con todas las entradas igual a True\n",
    "import numpy as np\n",
    "true = np.full((3, 3), True)\n",
    "print(true)"
   ]
  },
  {
   "cell_type": "code",
   "execution_count": null,
   "metadata": {},
   "outputs": [],
   "source": [
    "# Reemplazar todos los números impares por -1\n",
    "arr = np.array([0, 1, 2, 3, 4, 5, 6, 7, 8, 9])\n",
    "arr[arr % 2 != 0] = -1\n",
    "print(arr)"
   ]
  },
  {
   "cell_type": "code",
   "execution_count": null,
   "metadata": {},
   "outputs": [],
   "source": [
    "# Convertir un arreglo 1D a 2D\n",
    "vector1d = np.array([0, 1, 2, 3, 4, 5, 6, 7, 8, 9])\n",
    "vector2d = vector1d.reshape(5, 2)\n",
    "print(vector2d)"
   ]
  },
  {
   "cell_type": "code",
   "execution_count": null,
   "metadata": {},
   "outputs": [],
   "source": [
    "import pandas as pd\n",
    "df_file_csv = pd.read_csv('./datos/CalificacionesTXT.csv')\n",
    "df_file_csv.head()\n",
    "df_file_csv.info()\n",
    "# df_file_csv.\n",
    "\n",
    "df_column = 'Programa'\n",
    "print(df_file_csv['Programa'].value_counts())\n",
    "# df_file_csv.head()\n",
    "filtro_column = df_file_csv[(df_file_csv['Programa'] == 'Contabilidad') & (df_file_csv['Genero'] == 'Masculino') & (df_file_csv['Matematicas'] > '4')]\n",
    "filtro_column"
   ]
  },
  {
   "cell_type": "code",
   "execution_count": null,
   "metadata": {},
   "outputs": [],
   "source": [
    "import pandas as pd\n",
    "# import matplotlib plt\n",
    "df_file_csv = pd.read_csv('./datos/netflix_titles.csv')\n",
    "\n",
    "df_file_csv.columns = df_file_csv.columns.str.strip()\n",
    "\n",
    "df_column = 'country'\n",
    "print(df_file_csv['country'].value_counts())\n",
    "\n",
    "filtro_column = df_file_csv[(df_file_csv['country'] == 'South Korea')]\n",
    "filtro_column\n"
   ]
  },
  {
   "cell_type": "code",
   "execution_count": null,
   "metadata": {},
   "outputs": [],
   "source": [
    "df_column = 'country'\n",
    "print(df_file_csv['country'].value_counts())\n",
    "\n",
    "filtro_column = df_file_csv[(df_file_csv['country'] == 'South Korea') &  (df_file_csv['type'] == 'Movie')]\n",
    "filtro_column"
   ]
  },
  {
   "cell_type": "code",
   "execution_count": null,
   "metadata": {},
   "outputs": [],
   "source": [
    "data_sin_duplicado = df_file_csv.drop_duplicates()\n",
    "data_sin_duplicado"
   ]
  },
  {
   "cell_type": "code",
   "execution_count": null,
   "metadata": {},
   "outputs": [],
   "source": [
    "df_con_ceros = df_file_csv.fillna(0.0)\n",
    "df_con_ceros\n"
   ]
  },
  {
   "cell_type": "code",
   "execution_count": null,
   "metadata": {},
   "outputs": [],
   "source": [
    "df_sin_nulos = df_file_csv.dropna()\n",
    "df_sin_nulos"
   ]
  },
  {
   "cell_type": "code",
   "execution_count": null,
   "metadata": {},
   "outputs": [],
   "source": [
    "print(df_sin_nulos.plot())"
   ]
  },
  {
   "cell_type": "code",
   "execution_count": null,
   "metadata": {},
   "outputs": [],
   "source": [
    "import pandas as pd\n",
    "\n",
    "df_clientes_csv = pd.read_csv('./datos/clientes.csv')\n",
    "\n",
    "df_clientes_csv.columns = df_clientes_csv.columns.str.strip()\n",
    "\n",
    "df_column = 'Nombre'\n",
    "df_clientes_csv[df_column].value_counts().head(5)"
   ]
  },
  {
   "cell_type": "code",
   "execution_count": null,
   "metadata": {},
   "outputs": [],
   "source": [
    "filtro_column = df_clientes_csv[(df_clientes_csv['Categoría de productos comprados'] == 'Ropa')]\n",
    "filtro_column"
   ]
  },
  {
   "cell_type": "code",
   "execution_count": null,
   "metadata": {},
   "outputs": [],
   "source": [
    "import pandas as pd\n",
    "url = 'https://raw.githubusercontent.com/rubisabel00/ciencias-de-datos-Sena/refs/heads/main/DocumentosNB03/clientes.csv'\n",
    "datasetExcelURL = pd.read_csv(url,sep=';', encoding='utf-8')\n",
    "datasetExcelURL.head()"
   ]
  },
  {
   "cell_type": "code",
   "execution_count": null,
   "metadata": {},
   "outputs": [],
   "source": [
    "url = 'https://docs.google.com/spreadsheets/d/1IMYz6vNPoZ6T691xDwF9vCj5EB48GsoCMWrTy3514dw/edit?gid=1819194523#gid=1819194523'\n",
    "path = 'https://drive.google.com/drive/u/0/folders/1QFVZPkhDGW5_cH01V3_c_A2p-Fz9Dx5u'+url.split('/')[-2]\n",
    "datasetExcelURL = pd.read_excel(path,  index_col=0)\n",
    "datasetExcelURL"
   ]
  },
  {
   "cell_type": "code",
   "execution_count": null,
   "metadata": {},
   "outputs": [],
   "source": [
    "import seaborn as sns\n",
    "import pandas as pd"
   ]
  },
  {
   "cell_type": "code",
   "execution_count": 110,
   "metadata": {},
   "outputs": [
    {
     "data": {
      "text/html": [
       "<div>\n",
       "<style scoped>\n",
       "    .dataframe tbody tr th:only-of-type {\n",
       "        vertical-align: middle;\n",
       "    }\n",
       "\n",
       "    .dataframe tbody tr th {\n",
       "        vertical-align: top;\n",
       "    }\n",
       "\n",
       "    .dataframe thead th {\n",
       "        text-align: right;\n",
       "    }\n",
       "</style>\n",
       "<table border=\"1\" class=\"dataframe\">\n",
       "  <thead>\n",
       "    <tr style=\"text-align: right;\">\n",
       "      <th></th>\n",
       "      <th>player_id</th>\n",
       "      <th>date</th>\n",
       "      <th>market_value_in_eur</th>\n",
       "      <th>current_club_id</th>\n",
       "      <th>player_club_domestic_competition_id</th>\n",
       "    </tr>\n",
       "  </thead>\n",
       "  <tbody>\n",
       "    <tr>\n",
       "      <th>0</th>\n",
       "      <td>405973</td>\n",
       "      <td>2000-01-20</td>\n",
       "      <td>150000</td>\n",
       "      <td>3057</td>\n",
       "      <td>BE1</td>\n",
       "    </tr>\n",
       "    <tr>\n",
       "      <th>1</th>\n",
       "      <td>342216</td>\n",
       "      <td>2001-07-20</td>\n",
       "      <td>100000</td>\n",
       "      <td>1241</td>\n",
       "      <td>SC1</td>\n",
       "    </tr>\n",
       "    <tr>\n",
       "      <th>2</th>\n",
       "      <td>3132</td>\n",
       "      <td>2003-12-09</td>\n",
       "      <td>400000</td>\n",
       "      <td>126</td>\n",
       "      <td>TR1</td>\n",
       "    </tr>\n",
       "    <tr>\n",
       "      <th>3</th>\n",
       "      <td>6893</td>\n",
       "      <td>2003-12-15</td>\n",
       "      <td>900000</td>\n",
       "      <td>984</td>\n",
       "      <td>GB1</td>\n",
       "    </tr>\n",
       "    <tr>\n",
       "      <th>4</th>\n",
       "      <td>10</td>\n",
       "      <td>2004-10-04</td>\n",
       "      <td>7000000</td>\n",
       "      <td>398</td>\n",
       "      <td>IT1</td>\n",
       "    </tr>\n",
       "  </tbody>\n",
       "</table>\n",
       "</div>"
      ],
      "text/plain": [
       "   player_id        date  market_value_in_eur  current_club_id  \\\n",
       "0     405973  2000-01-20               150000             3057   \n",
       "1     342216  2001-07-20               100000             1241   \n",
       "2       3132  2003-12-09               400000              126   \n",
       "3       6893  2003-12-15               900000              984   \n",
       "4         10  2004-10-04              7000000              398   \n",
       "\n",
       "  player_club_domestic_competition_id  \n",
       "0                                 BE1  \n",
       "1                                 SC1  \n",
       "2                                 TR1  \n",
       "3                                 GB1  \n",
       "4                                 IT1  "
      ]
     },
     "execution_count": 110,
     "metadata": {},
     "output_type": "execute_result"
    }
   ],
   "source": [
    "data_player = pd.read_csv('./datos/player_valuations.csv')\n",
    "data_player.head()"
   ]
  },
  {
   "cell_type": "code",
   "execution_count": 111,
   "metadata": {},
   "outputs": [
    {
     "data": {
      "text/html": [
       "<div>\n",
       "<style scoped>\n",
       "    .dataframe tbody tr th:only-of-type {\n",
       "        vertical-align: middle;\n",
       "    }\n",
       "\n",
       "    .dataframe tbody tr th {\n",
       "        vertical-align: top;\n",
       "    }\n",
       "\n",
       "    .dataframe thead th {\n",
       "        text-align: right;\n",
       "    }\n",
       "</style>\n",
       "<table border=\"1\" class=\"dataframe\">\n",
       "  <thead>\n",
       "    <tr style=\"text-align: right;\">\n",
       "      <th></th>\n",
       "      <th>player_id</th>\n",
       "      <th>date</th>\n",
       "      <th>precio_en_euros</th>\n",
       "      <th>current_club_id</th>\n",
       "      <th>player_club_domestic_competition_id</th>\n",
       "    </tr>\n",
       "  </thead>\n",
       "  <tbody>\n",
       "    <tr>\n",
       "      <th>0</th>\n",
       "      <td>405973</td>\n",
       "      <td>2000-01-20</td>\n",
       "      <td>150000</td>\n",
       "      <td>3057</td>\n",
       "      <td>BE1</td>\n",
       "    </tr>\n",
       "    <tr>\n",
       "      <th>1</th>\n",
       "      <td>342216</td>\n",
       "      <td>2001-07-20</td>\n",
       "      <td>100000</td>\n",
       "      <td>1241</td>\n",
       "      <td>SC1</td>\n",
       "    </tr>\n",
       "    <tr>\n",
       "      <th>2</th>\n",
       "      <td>3132</td>\n",
       "      <td>2003-12-09</td>\n",
       "      <td>400000</td>\n",
       "      <td>126</td>\n",
       "      <td>TR1</td>\n",
       "    </tr>\n",
       "    <tr>\n",
       "      <th>3</th>\n",
       "      <td>6893</td>\n",
       "      <td>2003-12-15</td>\n",
       "      <td>900000</td>\n",
       "      <td>984</td>\n",
       "      <td>GB1</td>\n",
       "    </tr>\n",
       "    <tr>\n",
       "      <th>4</th>\n",
       "      <td>10</td>\n",
       "      <td>2004-10-04</td>\n",
       "      <td>7000000</td>\n",
       "      <td>398</td>\n",
       "      <td>IT1</td>\n",
       "    </tr>\n",
       "    <tr>\n",
       "      <th>...</th>\n",
       "      <td>...</td>\n",
       "      <td>...</td>\n",
       "      <td>...</td>\n",
       "      <td>...</td>\n",
       "      <td>...</td>\n",
       "    </tr>\n",
       "    <tr>\n",
       "      <th>464777</th>\n",
       "      <td>1073997</td>\n",
       "      <td>2024-01-08</td>\n",
       "      <td>150000</td>\n",
       "      <td>18</td>\n",
       "      <td>L1</td>\n",
       "    </tr>\n",
       "    <tr>\n",
       "      <th>464778</th>\n",
       "      <td>361508</td>\n",
       "      <td>2024-01-10</td>\n",
       "      <td>300000</td>\n",
       "      <td>39</td>\n",
       "      <td>L1</td>\n",
       "    </tr>\n",
       "    <tr>\n",
       "      <th>464779</th>\n",
       "      <td>705337</td>\n",
       "      <td>2024-01-10</td>\n",
       "      <td>125000</td>\n",
       "      <td>26459</td>\n",
       "      <td>UKR1</td>\n",
       "    </tr>\n",
       "    <tr>\n",
       "      <th>464780</th>\n",
       "      <td>800946</td>\n",
       "      <td>2024-01-10</td>\n",
       "      <td>1000000</td>\n",
       "      <td>79</td>\n",
       "      <td>L1</td>\n",
       "    </tr>\n",
       "    <tr>\n",
       "      <th>464781</th>\n",
       "      <td>659225</td>\n",
       "      <td>2024-01-17</td>\n",
       "      <td>100000</td>\n",
       "      <td>5724</td>\n",
       "      <td>DK1</td>\n",
       "    </tr>\n",
       "  </tbody>\n",
       "</table>\n",
       "<p>464782 rows × 5 columns</p>\n",
       "</div>"
      ],
      "text/plain": [
       "        player_id        date  precio_en_euros  current_club_id  \\\n",
       "0          405973  2000-01-20           150000             3057   \n",
       "1          342216  2001-07-20           100000             1241   \n",
       "2            3132  2003-12-09           400000              126   \n",
       "3            6893  2003-12-15           900000              984   \n",
       "4              10  2004-10-04          7000000              398   \n",
       "...           ...         ...              ...              ...   \n",
       "464777    1073997  2024-01-08           150000               18   \n",
       "464778     361508  2024-01-10           300000               39   \n",
       "464779     705337  2024-01-10           125000            26459   \n",
       "464780     800946  2024-01-10          1000000               79   \n",
       "464781     659225  2024-01-17           100000             5724   \n",
       "\n",
       "       player_club_domestic_competition_id  \n",
       "0                                      BE1  \n",
       "1                                      SC1  \n",
       "2                                      TR1  \n",
       "3                                      GB1  \n",
       "4                                      IT1  \n",
       "...                                    ...  \n",
       "464777                                  L1  \n",
       "464778                                  L1  \n",
       "464779                                UKR1  \n",
       "464780                                  L1  \n",
       "464781                                 DK1  \n",
       "\n",
       "[464782 rows x 5 columns]"
      ]
     },
     "execution_count": 111,
     "metadata": {},
     "output_type": "execute_result"
    }
   ],
   "source": [
    "# Cambiar en nombre de la columna de ingles a español\n",
    "data_player.rename(columns = {'market_value_in_eur' : 'precio_en_euros'}, inplace= True)\n",
    "data_player"
   ]
  },
  {
   "cell_type": "code",
   "execution_count": 112,
   "metadata": {},
   "outputs": [
    {
     "data": {
      "text/html": [
       "<div>\n",
       "<style scoped>\n",
       "    .dataframe tbody tr th:only-of-type {\n",
       "        vertical-align: middle;\n",
       "    }\n",
       "\n",
       "    .dataframe tbody tr th {\n",
       "        vertical-align: top;\n",
       "    }\n",
       "\n",
       "    .dataframe thead th {\n",
       "        text-align: right;\n",
       "    }\n",
       "</style>\n",
       "<table border=\"1\" class=\"dataframe\">\n",
       "  <thead>\n",
       "    <tr style=\"text-align: right;\">\n",
       "      <th></th>\n",
       "      <th>player_id</th>\n",
       "      <th>date</th>\n",
       "      <th>precio_en_euros</th>\n",
       "      <th>current_club_id</th>\n",
       "      <th>player_club_domestic_competition_id</th>\n",
       "    </tr>\n",
       "  </thead>\n",
       "  <tbody>\n",
       "    <tr>\n",
       "      <th>292158</th>\n",
       "      <td>342229</td>\n",
       "      <td>2019-12-19</td>\n",
       "      <td>200000000</td>\n",
       "      <td>583</td>\n",
       "      <td>FR1</td>\n",
       "    </tr>\n",
       "    <tr>\n",
       "      <th>268400</th>\n",
       "      <td>342229</td>\n",
       "      <td>2019-06-03</td>\n",
       "      <td>200000000</td>\n",
       "      <td>583</td>\n",
       "      <td>FR1</td>\n",
       "    </tr>\n",
       "    <tr>\n",
       "      <th>252371</th>\n",
       "      <td>342229</td>\n",
       "      <td>2018-12-17</td>\n",
       "      <td>200000000</td>\n",
       "      <td>583</td>\n",
       "      <td>FR1</td>\n",
       "    </tr>\n",
       "    <tr>\n",
       "      <th>443838</th>\n",
       "      <td>418560</td>\n",
       "      <td>2023-06-20</td>\n",
       "      <td>180000000</td>\n",
       "      <td>281</td>\n",
       "      <td>GB1</td>\n",
       "    </tr>\n",
       "    <tr>\n",
       "      <th>328329</th>\n",
       "      <td>342229</td>\n",
       "      <td>2020-10-15</td>\n",
       "      <td>180000000</td>\n",
       "      <td>583</td>\n",
       "      <td>FR1</td>\n",
       "    </tr>\n",
       "    <tr>\n",
       "      <th>...</th>\n",
       "      <td>...</td>\n",
       "      <td>...</td>\n",
       "      <td>...</td>\n",
       "      <td>...</td>\n",
       "      <td>...</td>\n",
       "    </tr>\n",
       "    <tr>\n",
       "      <th>456637</th>\n",
       "      <td>221815</td>\n",
       "      <td>2023-10-25</td>\n",
       "      <td>10000</td>\n",
       "      <td>1429</td>\n",
       "      <td>IT1</td>\n",
       "    </tr>\n",
       "    <tr>\n",
       "      <th>458037</th>\n",
       "      <td>55869</td>\n",
       "      <td>2023-12-04</td>\n",
       "      <td>10000</td>\n",
       "      <td>6676</td>\n",
       "      <td>GR1</td>\n",
       "    </tr>\n",
       "    <tr>\n",
       "      <th>458031</th>\n",
       "      <td>19987</td>\n",
       "      <td>2023-12-04</td>\n",
       "      <td>10000</td>\n",
       "      <td>2672</td>\n",
       "      <td>GR1</td>\n",
       "    </tr>\n",
       "    <tr>\n",
       "      <th>388267</th>\n",
       "      <td>621282</td>\n",
       "      <td>2022-02-01</td>\n",
       "      <td>10000</td>\n",
       "      <td>1005</td>\n",
       "      <td>IT1</td>\n",
       "    </tr>\n",
       "    <tr>\n",
       "      <th>15338</th>\n",
       "      <td>60096</td>\n",
       "      <td>2008-03-17</td>\n",
       "      <td>0</td>\n",
       "      <td>2696</td>\n",
       "      <td>RU1</td>\n",
       "    </tr>\n",
       "  </tbody>\n",
       "</table>\n",
       "<p>464782 rows × 5 columns</p>\n",
       "</div>"
      ],
      "text/plain": [
       "        player_id        date  precio_en_euros  current_club_id  \\\n",
       "292158     342229  2019-12-19        200000000              583   \n",
       "268400     342229  2019-06-03        200000000              583   \n",
       "252371     342229  2018-12-17        200000000              583   \n",
       "443838     418560  2023-06-20        180000000              281   \n",
       "328329     342229  2020-10-15        180000000              583   \n",
       "...           ...         ...              ...              ...   \n",
       "456637     221815  2023-10-25            10000             1429   \n",
       "458037      55869  2023-12-04            10000             6676   \n",
       "458031      19987  2023-12-04            10000             2672   \n",
       "388267     621282  2022-02-01            10000             1005   \n",
       "15338       60096  2008-03-17                0             2696   \n",
       "\n",
       "       player_club_domestic_competition_id  \n",
       "292158                                 FR1  \n",
       "268400                                 FR1  \n",
       "252371                                 FR1  \n",
       "443838                                 GB1  \n",
       "328329                                 FR1  \n",
       "...                                    ...  \n",
       "456637                                 IT1  \n",
       "458037                                 GR1  \n",
       "458031                                 GR1  \n",
       "388267                                 IT1  \n",
       "15338                                  RU1  \n",
       "\n",
       "[464782 rows x 5 columns]"
      ]
     },
     "execution_count": 112,
     "metadata": {},
     "output_type": "execute_result"
    }
   ],
   "source": [
    "df_sorted = data_player.sort_values(by='precio_en_euros', ascending=False)\n",
    "df_sorted"
   ]
  },
  {
   "cell_type": "code",
   "execution_count": 113,
   "metadata": {},
   "outputs": [
    {
     "data": {
      "text/html": [
       "<div>\n",
       "<style scoped>\n",
       "    .dataframe tbody tr th:only-of-type {\n",
       "        vertical-align: middle;\n",
       "    }\n",
       "\n",
       "    .dataframe tbody tr th {\n",
       "        vertical-align: top;\n",
       "    }\n",
       "\n",
       "    .dataframe thead th {\n",
       "        text-align: right;\n",
       "    }\n",
       "</style>\n",
       "<table border=\"1\" class=\"dataframe\">\n",
       "  <thead>\n",
       "    <tr style=\"text-align: right;\">\n",
       "      <th></th>\n",
       "      <th>player_id</th>\n",
       "      <th>precio_en_euros</th>\n",
       "      <th>current_club_id</th>\n",
       "    </tr>\n",
       "  </thead>\n",
       "  <tbody>\n",
       "    <tr>\n",
       "      <th>count</th>\n",
       "      <td>464782.000</td>\n",
       "      <td>464782.000</td>\n",
       "      <td>464782.000</td>\n",
       "    </tr>\n",
       "    <tr>\n",
       "      <th>mean</th>\n",
       "      <td>204484.605</td>\n",
       "      <td>2359657.620</td>\n",
       "      <td>4060.930</td>\n",
       "    </tr>\n",
       "    <tr>\n",
       "      <th>std</th>\n",
       "      <td>186128.543</td>\n",
       "      <td>6666213.585</td>\n",
       "      <td>9516.104</td>\n",
       "    </tr>\n",
       "    <tr>\n",
       "      <th>min</th>\n",
       "      <td>10.000</td>\n",
       "      <td>0.000</td>\n",
       "      <td>3.000</td>\n",
       "    </tr>\n",
       "    <tr>\n",
       "      <th>25%</th>\n",
       "      <td>56841.000</td>\n",
       "      <td>200000.000</td>\n",
       "      <td>369.000</td>\n",
       "    </tr>\n",
       "    <tr>\n",
       "      <th>50%</th>\n",
       "      <td>149526.000</td>\n",
       "      <td>500000.000</td>\n",
       "      <td>1010.000</td>\n",
       "    </tr>\n",
       "    <tr>\n",
       "      <th>75%</th>\n",
       "      <td>297772.000</td>\n",
       "      <td>1500000.000</td>\n",
       "      <td>2969.000</td>\n",
       "    </tr>\n",
       "    <tr>\n",
       "      <th>max</th>\n",
       "      <td>1186012.000</td>\n",
       "      <td>200000000.000</td>\n",
       "      <td>83678.000</td>\n",
       "    </tr>\n",
       "  </tbody>\n",
       "</table>\n",
       "</div>"
      ],
      "text/plain": [
       "        player_id  precio_en_euros  current_club_id\n",
       "count  464782.000       464782.000       464782.000\n",
       "mean   204484.605      2359657.620         4060.930\n",
       "std    186128.543      6666213.585         9516.104\n",
       "min        10.000            0.000            3.000\n",
       "25%     56841.000       200000.000          369.000\n",
       "50%    149526.000       500000.000         1010.000\n",
       "75%    297772.000      1500000.000         2969.000\n",
       "max   1186012.000    200000000.000        83678.000"
      ]
     },
     "execution_count": 113,
     "metadata": {},
     "output_type": "execute_result"
    }
   ],
   "source": [
    "#Configurar el formato de visualización para mostrar números completos\n",
    "pd.set_option('display.float_format', lambda X: '%.3f' % X)\n",
    "data_player.describe()"
   ]
  },
  {
   "cell_type": "code",
   "execution_count": 114,
   "metadata": {},
   "outputs": [
    {
     "data": {
      "text/plain": [
       "np.float64(2359657.620129437)"
      ]
     },
     "execution_count": 114,
     "metadata": {},
     "output_type": "execute_result"
    }
   ],
   "source": [
    "data_player['precio_en_euros'].mean()"
   ]
  },
  {
   "cell_type": "code",
   "execution_count": null,
   "metadata": {},
   "outputs": [],
   "source": [
    "data_player['precio_en_euros'].median()"
   ]
  },
  {
   "cell_type": "code",
   "execution_count": null,
   "metadata": {},
   "outputs": [],
   "source": [
    "data_player['precio_en_euros'].mode()"
   ]
  },
  {
   "cell_type": "code",
   "execution_count": 115,
   "metadata": {},
   "outputs": [
    {
     "data": {
      "image/png": "[encoded data removed]",
      "text/plain": [
       "<Figure size 640x480 with 1 Axes>"
      ]
     },
     "metadata": {},
     "output_type": "display_data"
    }
   ],
   "source": [
    "import matplotlib.pyplot as plt\n",
    "\n",
    "plt.ticklabel_format(style='plain', axis='y')\n",
    "\n",
    "plt.boxplot(data_player['precio_en_euros'])\n",
    "plt.show()"
   ]
  },
  {
   "cell_type": "code",
   "execution_count": 116,
   "metadata": {},
   "outputs": [
    {
     "data": {
      "image/png": "[encoded data removed]",
      "text/plain": [
       "<Figure size 640x480 with 1 Axes>"
      ]
     },
     "metadata": {},
     "output_type": "display_data"
    }
   ],
   "source": [
    "plt.hist(data_player['precio_en_euros'], bins=100)\n",
    "plt.show()"
   ]
  },
  {
   "cell_type": "code",
   "execution_count": 124,
   "metadata": {},
   "outputs": [],
   "source": [
    "Q1 = data_player['precio_en_euros'].quantile(0.25)\n",
    "Q3 = data_player['precio_en_euros'].quantile(0.75)\n",
    "IQR = Q3 - Q1"
   ]
  },
  {
   "cell_type": "code",
   "execution_count": 129,
   "metadata": {},
   "outputs": [
    {
     "name": "stdout",
     "output_type": "stream",
     "text": [
      "-1750000.0\n",
      "3450000.0\n"
     ]
    }
   ],
   "source": [
    "lower_bound = Q1 - 1.5 * IQR\n",
    "upper_bound = Q3 + 1.5 * IQR\n",
    "\n",
    "print(lower_bound)\n",
    "print(upper_bound)"
   ]
  },
  {
   "cell_type": "code",
   "execution_count": 130,
   "metadata": {},
   "outputs": [
    {
     "data": {
      "text/html": [
       "<div>\n",
       "<style scoped>\n",
       "    .dataframe tbody tr th:only-of-type {\n",
       "        vertical-align: middle;\n",
       "    }\n",
       "\n",
       "    .dataframe tbody tr th {\n",
       "        vertical-align: top;\n",
       "    }\n",
       "\n",
       "    .dataframe thead th {\n",
       "        text-align: right;\n",
       "    }\n",
       "</style>\n",
       "<table border=\"1\" class=\"dataframe\">\n",
       "  <thead>\n",
       "    <tr style=\"text-align: right;\">\n",
       "      <th></th>\n",
       "      <th>player_id</th>\n",
       "      <th>date</th>\n",
       "      <th>precio_en_euros</th>\n",
       "      <th>current_club_id</th>\n",
       "      <th>player_club_domestic_competition_id</th>\n",
       "    </tr>\n",
       "  </thead>\n",
       "  <tbody>\n",
       "    <tr>\n",
       "      <th>0</th>\n",
       "      <td>405973</td>\n",
       "      <td>2000-01-20</td>\n",
       "      <td>150000</td>\n",
       "      <td>3057</td>\n",
       "      <td>BE1</td>\n",
       "    </tr>\n",
       "    <tr>\n",
       "      <th>1</th>\n",
       "      <td>342216</td>\n",
       "      <td>2001-07-20</td>\n",
       "      <td>100000</td>\n",
       "      <td>1241</td>\n",
       "      <td>SC1</td>\n",
       "    </tr>\n",
       "    <tr>\n",
       "      <th>2</th>\n",
       "      <td>3132</td>\n",
       "      <td>2003-12-09</td>\n",
       "      <td>400000</td>\n",
       "      <td>126</td>\n",
       "      <td>TR1</td>\n",
       "    </tr>\n",
       "    <tr>\n",
       "      <th>3</th>\n",
       "      <td>6893</td>\n",
       "      <td>2003-12-15</td>\n",
       "      <td>900000</td>\n",
       "      <td>984</td>\n",
       "      <td>GB1</td>\n",
       "    </tr>\n",
       "    <tr>\n",
       "      <th>5</th>\n",
       "      <td>26</td>\n",
       "      <td>2004-10-04</td>\n",
       "      <td>1500000</td>\n",
       "      <td>16</td>\n",
       "      <td>L1</td>\n",
       "    </tr>\n",
       "    <tr>\n",
       "      <th>...</th>\n",
       "      <td>...</td>\n",
       "      <td>...</td>\n",
       "      <td>...</td>\n",
       "      <td>...</td>\n",
       "      <td>...</td>\n",
       "    </tr>\n",
       "    <tr>\n",
       "      <th>464777</th>\n",
       "      <td>1073997</td>\n",
       "      <td>2024-01-08</td>\n",
       "      <td>150000</td>\n",
       "      <td>18</td>\n",
       "      <td>L1</td>\n",
       "    </tr>\n",
       "    <tr>\n",
       "      <th>464778</th>\n",
       "      <td>361508</td>\n",
       "      <td>2024-01-10</td>\n",
       "      <td>300000</td>\n",
       "      <td>39</td>\n",
       "      <td>L1</td>\n",
       "    </tr>\n",
       "    <tr>\n",
       "      <th>464779</th>\n",
       "      <td>705337</td>\n",
       "      <td>2024-01-10</td>\n",
       "      <td>125000</td>\n",
       "      <td>26459</td>\n",
       "      <td>UKR1</td>\n",
       "    </tr>\n",
       "    <tr>\n",
       "      <th>464780</th>\n",
       "      <td>800946</td>\n",
       "      <td>2024-01-10</td>\n",
       "      <td>1000000</td>\n",
       "      <td>79</td>\n",
       "      <td>L1</td>\n",
       "    </tr>\n",
       "    <tr>\n",
       "      <th>464781</th>\n",
       "      <td>659225</td>\n",
       "      <td>2024-01-17</td>\n",
       "      <td>100000</td>\n",
       "      <td>5724</td>\n",
       "      <td>DK1</td>\n",
       "    </tr>\n",
       "  </tbody>\n",
       "</table>\n",
       "<p>396578 rows × 5 columns</p>\n",
       "</div>"
      ],
      "text/plain": [
       "        player_id        date  precio_en_euros  current_club_id  \\\n",
       "0          405973  2000-01-20           150000             3057   \n",
       "1          342216  2001-07-20           100000             1241   \n",
       "2            3132  2003-12-09           400000              126   \n",
       "3            6893  2003-12-15           900000              984   \n",
       "5              26  2004-10-04          1500000               16   \n",
       "...           ...         ...              ...              ...   \n",
       "464777    1073997  2024-01-08           150000               18   \n",
       "464778     361508  2024-01-10           300000               39   \n",
       "464779     705337  2024-01-10           125000            26459   \n",
       "464780     800946  2024-01-10          1000000               79   \n",
       "464781     659225  2024-01-17           100000             5724   \n",
       "\n",
       "       player_club_domestic_competition_id  \n",
       "0                                      BE1  \n",
       "1                                      SC1  \n",
       "2                                      TR1  \n",
       "3                                      GB1  \n",
       "5                                       L1  \n",
       "...                                    ...  \n",
       "464777                                  L1  \n",
       "464778                                  L1  \n",
       "464779                                UKR1  \n",
       "464780                                  L1  \n",
       "464781                                 DK1  \n",
       "\n",
       "[396578 rows x 5 columns]"
      ]
     },
     "execution_count": 130,
     "metadata": {},
     "output_type": "execute_result"
    }
   ],
   "source": [
    "df_filtered = data_player[(data_player['precio_en_euros'] >= lower_bound) & (data_player['precio_en_euros'] <= upper_bound)]\n",
    "df_filtered"
   ]
  },
  {
   "cell_type": "code",
   "execution_count": 131,
   "metadata": {},
   "outputs": [
    {
     "data": {
      "image/png": "[encoded data removed]",
      "text/plain": [
       "<Figure size 640x480 with 1 Axes>"
      ]
     },
     "metadata": {},
     "output_type": "display_data"
    },
    {
     "data": {
      "image/png": "[encoded data removed]",
      "text/plain": [
       "<Figure size 640x480 with 1 Axes>"
      ]
     },
     "metadata": {},
     "output_type": "display_data"
    }
   ],
   "source": [
    "plt.ticklabel_format(style='plain', axis='y')\n",
    "\n",
    "plt.boxplot(df_filtered['precio_en_euros'])\n",
    "plt.title('Boxplot de precio_en_euros')\n",
    "plt.show()\n",
    "\n",
    "plt.hist(df_filtered['precio_en_euros'], bins=100)\n",
    "plt.title('Histograma de precio_en_euros')\n",
    "plt.show()"
   ]
  }
 ],
 "metadata": {
  "kernelspec": {
   "display_name": "my-ven",
   "language": "python",
   "name": "python3"
  },
  "language_info": {
   "codemirror_mode": {
    "name": "ipython",
    "version": 3
   },
   "file_extension": ".py",
   "mimetype": "text/x-python",
   "name": "python",
   "nbconvert_exporter": "python",
   "pygments_lexer": "ipython3",
   "version": "3.13.2"
  }
 },
 "nbformat": 4,
 "nbformat_minor": 2
}
